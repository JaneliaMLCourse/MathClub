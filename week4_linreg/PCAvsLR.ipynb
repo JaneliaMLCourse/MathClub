{
 "cells": [
  {
   "cell_type": "code",
   "execution_count": 12,
   "metadata": {
    "collapsed": true
   },
   "outputs": [],
   "source": [
    "import numpy as np\n",
    "from sklearn.linear_model import LinearRegression\n",
    "from sklearn.decomposition import PCA\n",
    "from scipy.stats import zscore\n",
    "\n",
    "import matplotlib.pyplot as plt\n",
    "%matplotlib inline"
   ]
  },
  {
   "cell_type": "markdown",
   "metadata": {},
   "source": [
    "This notebook runs linear regression and PCA using the same 2d data.\n",
    "\n",
    "What happens if you change the data?\n",
    "\n",
    "Can you come up with some data that would make the results as different as possible?"
   ]
  },
  {
   "cell_type": "code",
   "execution_count": 2,
   "metadata": {},
   "outputs": [
    {
     "name": "stdout",
     "output_type": "stream",
     "text": [
      "covariance matrix\n",
      "[[ 34.3, 32 ],\n",
      " [ 31.5, 32.0 ]]\n",
      "eigenvalues: 64.7, 1.6\n",
      "eigenvectors: [0.72,0.69], [-0.69,0.72]\n"
     ]
    }
   ],
   "source": [
    "n1 = np.array([5,-4,8,-10,1,0])\n",
    "n2 = np.array([7,-2,7,-9,0,-3])\n",
    "\n",
    "A = np.concatenate((n1[np.newaxis,:], n2[np.newaxis,:]))\n",
    "\n",
    "print('covariance matrix')\n",
    "covA = A @ A.T / A.shape[1]\n",
    "print('[[ %2.1f, %2.f ],\\n [ %2.1f, %2.1f ]]'%(covA[0,0],covA[0,1],covA[1,0],covA[1,1]))\n",
    "\n",
    "# find eigenvalues and eigenvectors of covariance matrix\n",
    "lam, v = np.linalg.eig( covA )\n",
    "\n",
    "print( 'eigenvalues: %2.1f, %2.1f'%(lam[0],lam[1]))\n",
    "print( 'eigenvectors: [%2.2f,%2.2f], [%2.2f,%2.2f]'%(v[0,0],v[1,0],v[0,1],v[1,1]))"
   ]
  },
  {
   "cell_type": "code",
   "execution_count": 3,
   "metadata": {},
   "outputs": [
    {
     "data": {
      "image/png": "[encoded data removed]",
      "text/plain": [
       "<matplotlib.figure.Figure at 0x118f08f98>"
      ]
     },
     "metadata": {},
     "output_type": "display_data"
    }
   ],
   "source": [
    "# plot neuron activity with eigenvectors\n",
    "fig = plt.figure(figsize=(4,4))\n",
    "ax = fig.add_subplot(111)\n",
    "ax.scatter(n1,n2,s=60)\n",
    "ax.plot( np.array([-11,11]), np.array([-11,11])*v[1,0]/v[0,0], color='k', zorder=0, lw=3 )\n",
    "ax.plot( np.array([-3,3]), np.array([-3,3])*v[1,1]/v[0,1], '--', color='k', zorder=0 )\n",
    "ax.text( 7,  5, 'evector1',fontsize=15)\n",
    "ax.text( 5, -4, 'evector2',fontsize=15)\n",
    "ax.set_xlabel('neuron 1')\n",
    "ax.set_ylabel('neuron 2')\n",
    "ax.set_xlim(-11,11)\n",
    "ax.set_ylim(-11,11)\n",
    "plt.show()"
   ]
  },
  {
   "cell_type": "code",
   "execution_count": 10,
   "metadata": {},
   "outputs": [
    {
     "data": {
      "text/plain": [
       "[<matplotlib.lines.Line2D at 0x11bbf5f60>]"
      ]
     },
     "execution_count": 10,
     "metadata": {},
     "output_type": "execute_result"
    },
    {
     "data": {
      "image/png": "[encoded data removed]",
      "text/plain": [
       "<matplotlib.figure.Figure at 0x11b7a6470>"
      ]
     },
     "metadata": {},
     "output_type": "display_data"
    }
   ],
   "source": [
    "reg = LinearRegression().fit(n1.reshape(-1, 1), n2)\n",
    "lr_xcoords = np.array([-11,11])\n",
    "lr_ycoords = reg.coef_[0] * lr_xcoords + reg.intercept_\n",
    "\n",
    "fig = plt.figure(figsize=(4,4))\n",
    "ax = fig.add_subplot(111)\n",
    "ax.scatter(n1,n2,s=60)\n",
    "ax.plot( np.array([-11,11]), np.array([-11,11])*v[1,0]/v[0,0], color='k', zorder=0, lw=3 )\n",
    "ax.plot( lr_xcoords, lr_ycoords, color='r', lw=3 )\n",
    "\n",
    "# So they're basically the same for these data"
   ]
  },
  {
   "cell_type": "code",
   "execution_count": 41,
   "metadata": {},
   "outputs": [
    {
     "name": "stdout",
     "output_type": "stream",
     "text": [
      "pca: : [-0.  1.]\n",
      "intercept = 1.000000 . slope = 0.000000 \n"
     ]
    }
   ],
   "source": [
    "# The normal equation breaking example\n",
    "\n",
    "xnasty = np.array([0,0,0]).reshape(-1,1)\n",
    "ynasty = np.array([0,1,2]).reshape(-1,1)\n",
    "\n",
    "# pca matrix should be size (nsamples, nfeatures)\n",
    "pcaX = np.concatenate( (xnasty, ynasty ), axis=1)\n",
    "\n",
    "pca = PCA()\n",
    "pca.fit( pcaX )\n",
    "V = pca.components_\n",
    "print( 'pca: :', V[:,0] )\n",
    "\n",
    "reg = LinearRegression().fit(xnasty, ynasty )\n",
    "print( 'intercept = %f . slope = %f ' % (reg.intercept_, reg.coef_[0],  ))"
   ]
  },
  {
   "cell_type": "code",
   "execution_count": 61,
   "metadata": {},
   "outputs": [
    {
     "name": "stdout",
     "output_type": "stream",
     "text": [
      "0.0\n",
      "0.0\n",
      "(6, 2)\n",
      "[[-11.96092632         -inf]\n",
      " [  6.03599016         -inf]\n",
      " [-15.01593941          inf]\n",
      " [ 19.01525418         -inf]\n",
      " [ -1.01833769          inf]\n",
      " [  2.94395908          inf]]\n"
     ]
    },
    {
     "name": "stderr",
     "output_type": "stream",
     "text": [
      "/Users/bogovicj/miniconda3/envs/mathclub/lib/python3.6/site-packages/ipykernel_launcher.py:15: RuntimeWarning: divide by zero encountered in true_divide\n",
      "  from ipykernel import kernelapp as app\n"
     ]
    }
   ],
   "source": [
    "x = n1.reshape(-1,1)\n",
    "y = n2.reshape(-1,1)\n",
    "\n",
    "xm = np.mean(x)\n",
    "ym = np.mean(y)\n",
    "\n",
    "pcaDatMtx = np.concatenate( (x - xm, y - ym), axis=1)\n",
    "print( pcaDatMtx.shape )\n",
    "\n",
    "pca = PCA()\n",
    "pca.fit( pcaDatMtx )\n",
    "V = pca.components_\n",
    "U = np.matmul( pcaDatMtx, V.T ) / sv\n",
    "print( U )\n",
    "\n",
    "# pc1 = V[:,0]\n",
    "# print( pc1.shape )\n",
    "# # project X onto V1\n",
    "# proj = pcaDatMtx @ pc1.T\n",
    "# print( proj )"
   ]
  },
  {
   "cell_type": "code",
   "execution_count": 44,
   "metadata": {},
   "outputs": [
    {
     "data": {
      "text/plain": [
       "array([[-0.72007349, -0.69389781],\n",
       "       [ 0.69389781, -0.72007349]])"
      ]
     },
     "execution_count": 44,
     "metadata": {},
     "output_type": "execute_result"
    }
   ],
   "source": [
    "V"
   ]
  },
  {
   "cell_type": "code",
   "execution_count": null,
   "metadata": {
    "collapsed": true
   },
   "outputs": [],
   "source": []
  }
 ],
 "metadata": {
  "kernelspec": {
   "display_name": "Python 3",
   "language": "python",
   "name": "python3"
  },
  "language_info": {
   "codemirror_mode": {
    "name": "ipython",
    "version": 3
   },
   "file_extension": ".py",
   "mimetype": "text/x-python",
   "name": "python",
   "nbconvert_exporter": "python",
   "pygments_lexer": "ipython3",
   "version": "3.6.2"
  }
 },
 "nbformat": 4,
 "nbformat_minor": 2
}
