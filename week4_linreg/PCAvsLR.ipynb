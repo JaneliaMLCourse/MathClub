{
 "cells": [
  {
   "cell_type": "code",
   "execution_count": 1,
   "metadata": {},
   "outputs": [],
   "source": [
    "import numpy as np\n",
    "from sklearn.linear_model import LinearRegression\n",
    "from sklearn.decomposition import PCA\n",
    "from scipy.stats import zscore\n",
    "\n",
    "import matplotlib.pyplot as plt\n",
    "%matplotlib inline"
   ]
  },
  {
   "cell_type": "markdown",
   "metadata": {},
   "source": [
    "PCA and Linear regression do different things.\n",
    "But PCA with one component is kind of like linear regression.\n",
    "\n",
    "Why should we bother with linear regression when we just do one component pca?\n",
    "\n",
    "**The prediction of the $y$-variable(s) will be better using linear regression than it would be using pca.**\n",
    "\n",
    "\n",
    "There are a few ways to think about this:\n",
    "\n",
    "### 1) How we measure errors\n",
    "\n",
    "PCA treats all variables identically, and so when it measures the distance from a sample to the line, it measures the \"diagonal distance\".  Linear regression cares about the \"vertical\" distance from the line to the variables y that we want to predict.\n",
    "\n",
    "### 2) How PCA prioritizes variables \n",
    "\n",
    "The diagonal distance might be very different from the \"vertical\" distance in some cases.  This is as if PCA \"prioritizes\" some variables more than others.  If those variables are our $X$'s not our $y$'s, then the results of PCA and linear regression could be very different.  (See below for an example).\n",
    "\n",
    "### Lots of dimensions\n",
    "\n",
    "The two problems above get worse when there are many variables - the differe\n",
    "\n",
    "\n",
    "\n",
    "\n",
    "\n"
   ]
  },
  {
   "cell_type": "markdown",
   "metadata": {},
   "source": [
    "This notebook runs linear regression and PCA using the same 2d data.\n",
    "\n",
    "What happens if you change the data?\n",
    "\n",
    "Can you come up with some data that would make the results as different as possible?"
   ]
  },
  {
   "cell_type": "code",
   "execution_count": 2,
   "metadata": {},
   "outputs": [
    {
     "name": "stdout",
     "output_type": "stream",
     "text": [
      "covariance matrix\n",
      "[[ 34.3, 32 ],\n",
      " [ 31.5, 32.0 ]]\n",
      "eigenvalues: 64.7, 1.6\n",
      "eigenvectors: [0.72,0.69], [-0.69,0.72]\n"
     ]
    }
   ],
   "source": [
    "n1 = np.array([5,-4,8,-10,1,0])\n",
    "n2 = np.array([7,-2,7,-9,0,-3])\n",
    "\n",
    "A = np.concatenate((n1[np.newaxis,:], n2[np.newaxis,:]))\n",
    "\n",
    "print('covariance matrix')\n",
    "covA = A @ A.T / A.shape[1]\n",
    "print('[[ %2.1f, %2.f ],\\n [ %2.1f, %2.1f ]]'%(covA[0,0],covA[0,1],covA[1,0],covA[1,1]))\n",
    "\n",
    "# find eigenvalues and eigenvectors of covariance matrix\n",
    "lam, v = np.linalg.eig( covA )\n",
    "\n",
    "print( 'eigenvalues: %2.1f, %2.1f'%(lam[0],lam[1]))\n",
    "print( 'eigenvectors: [%2.2f,%2.2f], [%2.2f,%2.2f]'%(v[0,0],v[1,0],v[0,1],v[1,1]))"
   ]
  },
  {
   "cell_type": "code",
   "execution_count": 3,
   "metadata": {},
   "outputs": [
    {
     "data": {
      "image/png": "[encoded data removed]",
      "text/plain": [
       "<Figure size 288x288 with 1 Axes>"
      ]
     },
     "metadata": {
      "needs_background": "light"
     },
     "output_type": "display_data"
    }
   ],
   "source": [
    "# plot neuron activity with eigenvectors\n",
    "fig = plt.figure(figsize=(4,4))\n",
    "ax = fig.add_subplot(111)\n",
    "ax.scatter(n1,n2,s=60)\n",
    "ax.plot( np.array([-11,11]), np.array([-11,11])*v[1,0]/v[0,0], color='k', zorder=0, lw=3 )\n",
    "ax.plot( np.array([-3,3]), np.array([-3,3])*v[1,1]/v[0,1], '--', color='k', zorder=0 )\n",
    "ax.text( 7,  5, 'evector1',fontsize=15)\n",
    "ax.text( 5, -4, 'evector2',fontsize=15)\n",
    "ax.set_xlabel('neuron 1')\n",
    "ax.set_ylabel('neuron 2')\n",
    "ax.set_xlim(-11,11)\n",
    "ax.set_ylim(-11,11)\n",
    "plt.show()"
   ]
  },
  {
   "cell_type": "code",
   "execution_count": 4,
   "metadata": {},
   "outputs": [
    {
     "data": {
      "text/plain": [
       "[<matplotlib.lines.Line2D at 0x7f239228b710>]"
      ]
     },
     "execution_count": 4,
     "metadata": {},
     "output_type": "execute_result"
    },
    {
     "data": {
      "image/png": "[encoded data removed]",
      "text/plain": [
       "<Figure size 288x288 with 1 Axes>"
      ]
     },
     "metadata": {
      "needs_background": "light"
     },
     "output_type": "display_data"
    }
   ],
   "source": [
    "reg = LinearRegression().fit(n1.reshape(-1, 1), n2)\n",
    "lr_xcoords = np.array([-11,11])\n",
    "lr_ycoords = reg.coef_[0] * lr_xcoords + reg.intercept_\n",
    "\n",
    "fig = plt.figure(figsize=(4,4))\n",
    "ax = fig.add_subplot(111)\n",
    "ax.scatter(n1,n2,s=60)\n",
    "ax.plot( np.array([-11,11]), np.array([-11,11])*v[1,0]/v[0,0], color='k', zorder=0, lw=3 )\n",
    "ax.plot( lr_xcoords, lr_ycoords, color='r', lw=3 )\n",
    "\n",
    "# So they're basically the same for these data"
   ]
  },
  {
   "cell_type": "code",
   "execution_count": 5,
   "metadata": {},
   "outputs": [
    {
     "name": "stdout",
     "output_type": "stream",
     "text": [
      "pca: : [-0.  1.]\n",
      "intercept = 1.000000 . slope = 0.000000 \n"
     ]
    }
   ],
   "source": [
    "# The normal equation breaking example\n",
    "\n",
    "xnasty = np.array([0,0,0]).reshape(-1,1)\n",
    "ynasty = np.array([0,1,2]).reshape(-1,1)\n",
    "\n",
    "# pca matrix should be size (nsamples, nfeatures)\n",
    "pcaX = np.concatenate( (xnasty, ynasty ), axis=1)\n",
    "\n",
    "pca = PCA()\n",
    "pca.fit( pcaX )\n",
    "V = pca.components_\n",
    "print( 'pca: :', V[:,0] )\n",
    "\n",
    "reg = LinearRegression().fit(xnasty, ynasty )\n",
    "print( 'intercept = %f . slope = %f ' % (reg.intercept_, reg.coef_[0],  ))"
   ]
  },
  {
   "cell_type": "code",
   "execution_count": 6,
   "metadata": {},
   "outputs": [],
   "source": [
    "def plotLr( x, y, ax ):\n",
    "    reg = LinearRegression().fit(x, y)\n",
    "    lr_xcoords = np.array([np.min(x),np.max(x)])\n",
    "    lr_ycoords = reg.coef_[0] * lr_xcoords + reg.intercept_\n",
    "    ax.plot( lr_xcoords, lr_ycoords, color='r', lw=3 )\n",
    "    \n",
    "def plotPca( x, y, ax ):    \n",
    "    xm = np.mean(x)\n",
    "    ym = np.mean(y)\n",
    "    mnvec = np.array( [xm, ym ])\n",
    "\n",
    "    pcaDatMtx = np.concatenate( (x - xm, y - ym), axis=1)\n",
    "\n",
    "    pca = PCA(n_components=1)\n",
    "    pca.fit( pcaDatMtx )\n",
    "\n",
    "    # The principal component\n",
    "    V = pca.components_\n",
    "\n",
    "    # the singular values (how important each pc is)\n",
    "    sv = pca.singular_values_\n",
    "\n",
    "    # represent inputs as linear combination of pcs\n",
    "    U = pcaDatMtx @ V.T \n",
    "\n",
    "    # Reconstruct data from the pcs\n",
    "    # Add the mean back in\n",
    "    datRecon = (U @ V) + mnvec\n",
    "\n",
    "    # print( datRecon )\n",
    "    # print( ' ')\n",
    "    # print( pcaDatMtx)\n",
    "    # print( ' ' )\n",
    "    p1 = datRecon[ np.argmin( datRecon[:,0]), : ]\n",
    "    p2 = datRecon[ np.argmax( datRecon[:,0]), : ]\n",
    "    # print( p1 )\n",
    "    # print( p2 )\n",
    "    ax.plot( [p1[0], p2[0]], [p1[1], p2[1]], color='k', zorder=0, lw=3 )\n"
   ]
  },
  {
   "cell_type": "code",
   "execution_count": 7,
   "metadata": {},
   "outputs": [
    {
     "data": {
      "image/png": "[encoded data removed]",
      "text/plain": [
       "<Figure size 288x288 with 1 Axes>"
      ]
     },
     "metadata": {
      "needs_background": "light"
     },
     "output_type": "display_data"
    }
   ],
   "source": [
    "x = n1.reshape(-1,1) + 8 \n",
    "y = n2.reshape(-1,1) - 3\n",
    "\n",
    "fig = plt.figure(figsize=(4,4))\n",
    "ax = fig.add_subplot(111)\n",
    "ax.scatter(x,y,s=60)\n",
    "plotPca( x, y, ax )\n",
    "plotLr( x, y, ax )"
   ]
  },
  {
   "cell_type": "code",
   "execution_count": 8,
   "metadata": {},
   "outputs": [],
   "source": [
    "# Play!"
   ]
  },
  {
   "cell_type": "code",
   "execution_count": 89,
   "metadata": {},
   "outputs": [],
   "source": [
    "def predictPCA( X, y ):\n",
    "    \n",
    "    Xy = np.concatenate( [X, y[:,np.newaxis]], axis=1)\n",
    "    xymn = np.mean(Xy,axis=0)\n",
    "    ymn = np.mean(y)\n",
    "    pcaDatMtx = Xy - xymn\n",
    "\n",
    "    pca = PCA(n_components=1)\n",
    "    pca.fit( pcaDatMtx )\n",
    "\n",
    "    # The principal component\n",
    "    V = pca.components_\n",
    "\n",
    "    # represent inputs as linear combination of pcs\n",
    "    U = pcaDatMtx @ V.T \n",
    "    \n",
    "    # Reconstruct data from the pcs\n",
    "    # Add the mean back in\n",
    "    recon = (U @ V)[:,-1]\n",
    "    yhat = recon + ymn\n",
    "    err = np.linalg.norm( y - yhat )\n",
    "    \n",
    "    return err, yhat, (V, U, xymn)\n",
    "    \n",
    "def predictLr( X, y ):\n",
    "    reg = LinearRegression().fit( X, y )\n",
    "    reg.fit( X, y )\n",
    "    yhat = reg.predict( X )\n",
    "    err = np.linalg.norm( y - yhat )\n",
    "\n",
    "    return err, yhat, reg"
   ]
  },
  {
   "cell_type": "code",
   "execution_count": 93,
   "metadata": {},
   "outputs": [
    {
     "name": "stdout",
     "output_type": "stream",
     "text": [
      "pca error :  9.046447239055027\n",
      "lr  error :  3.114571496099753\n"
     ]
    }
   ],
   "source": [
    "# Make a frisbee/pancake shaped distribution of 3 variables\n",
    "# where x1, and x2, have relatively high variance.\n",
    "# and a third variable y, has a relatively low variance\n",
    "# \n",
    "# It's also the case that x1 and x2 give information about y\n",
    "# i.e. that x1 and y are correlated, and x2 and y are correlated\n",
    "# but x1 and x2 are uncorrelated\n",
    "\n",
    "N = 1000 # number of observations\n",
    "x1stddev = 10\n",
    "x2stddev = 10\n",
    "ystddev  = 0.1\n",
    "\n",
    "x1 = x1stddev * np.random.randn( N )\n",
    "x2 = x2stddev * np.random.randn( N ) + ( 4 * x1 )\n",
    "y  =  ystddev * np.random.randn( N ) + (0.2 * x1) + (0.3 * x2) \n",
    "\n",
    "X = np.concatenate( [x1[:,np.newaxis], x2[:,np.newaxis]], axis=1)\n",
    "\n",
    "err_lr,  yhat_lr,  lr  = predictLr( X, y )\n",
    "err_pca, yhat_pca, pca = predictPCA( X, y )\n",
    "\n",
    "print( 'pca error : ', err_pca)\n",
    "print( 'lr  error : ', err_lr)"
   ]
  },
  {
   "cell_type": "code",
   "execution_count": 150,
   "metadata": {},
   "outputs": [
    {
     "data": {
      "text/plain": [
       "Text(0.5, 1.0, 'points above the line have PCA error > regression error')"
      ]
     },
     "execution_count": 150,
     "metadata": {},
     "output_type": "execute_result"
    },
    {
     "data": {
      "image/png": "[encoded data removed]",
      "text/plain": [
       "<Figure size 432x432 with 1 Axes>"
      ]
     },
     "metadata": {
      "needs_background": "light"
     },
     "output_type": "display_data"
    }
   ],
   "source": [
    "# The effect can be especially pronounced when we have a very high number\n",
    "# of dimensions.\n",
    "#\n",
    "# I'm not carefully designing the correlations so that it will produce a bad result.\n",
    "# A medium-sized (25-D) dataset whose variables are randomly correlated has a \n",
    "# high likelihood that the best single projection (PCA) will poorly predict\n",
    "# any one of those variables\n",
    "\n",
    "# We'll repeat the experiment below many times\n",
    "nExperiments = 50\n",
    "\n",
    "pcaErrs = []\n",
    "lrErrs = []\n",
    "for i in range(nExperiments):\n",
    "    D = 25 # dimensionality\n",
    "    N = 1000 # number of observations\n",
    "    tmp = np.random.rand( D, D ) + np.identity( D )\n",
    "\n",
    "    # build a symmetric \n",
    "    correlationMtx = tmp.T @ tmp \n",
    "    mean = np.zeros( D )\n",
    "\n",
    "    Xy = np.random.multivariate_normal(mean, correlationMtx, N )\n",
    "    X = Xy[:,:-1] # omit the last column\n",
    "    y = Xy[:,-1]  # the last column - predict this from X\n",
    "\n",
    "    err_lr,  yhat_lr,  lr  = predictLr( X, y )\n",
    "    err_pca, yhat_pca, pca = predictPCA( X, y )\n",
    "\n",
    "    lrErrs += [err_lr]\n",
    "    pcaErrs += [err_pca]\n",
    "\n",
    "maxerr = np.max( [np.max( pcaErrs ), np.max(lrErrs)])\n",
    "\n",
    "fig = plt.figure(figsize=(6,6))\n",
    "ax = fig.add_subplot(111)\n",
    "ax.plot([0,maxerr],[0,maxerr,]) \n",
    "ax.scatter( lrErrs, pcaErrs )\n",
    "ax.set_xlim(0,maxerr)\n",
    "ax.set_ylim(0,maxerr)\n",
    "ax.set_xlabel('Linear regression prediction error')\n",
    "ax.set_ylabel('PCA reconstruction error')\n",
    "ax.set_title('points above the line have PCA error > regression error')"
   ]
  }
 ],
 "metadata": {
  "kernelspec": {
   "display_name": "Python 3",
   "language": "python",
   "name": "python3"
  },
  "language_info": {
   "codemirror_mode": {
    "name": "ipython",
    "version": 3
   },
   "file_extension": ".py",
   "mimetype": "text/x-python",
   "name": "python",
   "nbconvert_exporter": "python",
   "pygments_lexer": "ipython3",
   "version": "3.7.3"
  }
 },
 "nbformat": 4,
 "nbformat_minor": 2
}
