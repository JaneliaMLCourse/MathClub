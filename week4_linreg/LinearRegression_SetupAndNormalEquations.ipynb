{
 "cells": [
  {
   "cell_type": "code",
   "execution_count": 17,
   "metadata": {},
   "outputs": [
    {
     "ename": "SyntaxError",
     "evalue": "invalid syntax (<ipython-input-17-4d58a931617f>, line 5)",
     "output_type": "error",
     "traceback": [
      "\u001b[0;36m  File \u001b[0;32m\"<ipython-input-17-4d58a931617f>\"\u001b[0;36m, line \u001b[0;32m5\u001b[0m\n\u001b[0;31m    np.set_printoptions(precision=2, floatmode='fixed' suppress=True)\u001b[0m\n\u001b[0m                                                              ^\u001b[0m\n\u001b[0;31mSyntaxError\u001b[0m\u001b[0;31m:\u001b[0m invalid syntax\n"
     ]
    }
   ],
   "source": [
    "import numpy as np\n",
    "import matplotlib.pyplot as plt\n",
    "%matplotlib inline\n",
    "\n",
    "np.set_printoptions(precision=2, floatmode='fixed' suppress=True)"
   ]
  },
  {
   "cell_type": "code",
   "execution_count": 18,
   "metadata": {},
   "outputs": [
    {
     "name": "stdout",
     "output_type": "stream",
     "text": [
      "(2, 6, 1)\n"
     ]
    },
    {
     "data": {
      "image/png": "[encoded data removed]",
      "text/plain": [
       "<Figure size 288x288 with 1 Axes>"
      ]
     },
     "metadata": {
      "needs_background": "light"
     },
     "output_type": "display_data"
    }
   ],
   "source": [
    "\n",
    "n1 = np.array([5,-4,8,-10,1,0]).reshape(-1,1)\n",
    "n2 = np.array([7,-2,7,-9,0,-3]).reshape(-1,1)\n",
    "\n",
    "A = np.concatenate((n1[np.newaxis,:], n2[np.newaxis,:]))\n",
    "print( A.shape)\n",
    "\n",
    "# plot neuron activity\n",
    "fig = plt.figure(figsize=(4,4))\n",
    "ax = fig.add_subplot(111)\n",
    "ax.scatter(n1,n2,s=60)\n",
    "ax.set_xlabel('neuron 1')\n",
    "ax.set_ylabel('neuron 2')\n",
    "ax.set_xlim(-11,11)\n",
    "ax.set_ylim(-11,11)\n",
    "plt.show()"
   ]
  },
  {
   "cell_type": "code",
   "execution_count": 19,
   "metadata": {},
   "outputs": [
    {
     "name": "stdout",
     "output_type": "stream",
     "text": [
      "[[ 7]\n",
      " [-2]\n",
      " [ 7]\n",
      " [-9]\n",
      " [ 0]\n",
      " [-3]]\n"
     ]
    }
   ],
   "source": [
    "y = n2\n",
    "print( y )"
   ]
  },
  {
   "cell_type": "code",
   "execution_count": 20,
   "metadata": {},
   "outputs": [
    {
     "name": "stdout",
     "output_type": "stream",
     "text": [
      "[[  1.   5.]\n",
      " [  1.  -4.]\n",
      " [  1.   8.]\n",
      " [  1. -10.]\n",
      " [  1.   1.]\n",
      " [  1.   0.]]\n"
     ]
    }
   ],
   "source": [
    "X = np.concatenate( (np.ones( n1.shape ), n1), axis=1 )\n",
    "print( X )"
   ]
  },
  {
   "cell_type": "code",
   "execution_count": 21,
   "metadata": {},
   "outputs": [
    {
     "name": "stdout",
     "output_type": "stream",
     "text": [
      "[[-0.  ]\n",
      " [ 0.92]]\n"
     ]
    }
   ],
   "source": [
    "# write the normal equation to solve\n",
    "\n",
    "Xt = np.transpose( X )\n",
    "beta = np.linalg.inv( Xt @ X ) @ Xt @ y\n",
    "print( beta )"
   ]
  },
  {
   "cell_type": "code",
   "execution_count": 22,
   "metadata": {},
   "outputs": [
    {
     "name": "stdout",
     "output_type": "stream",
     "text": [
      "[[0.  ]\n",
      " [0.92]]\n"
     ]
    }
   ],
   "source": [
    "# Use the pseudo inverse to solve\n",
    "\n",
    "beta_pi = np.linalg.pinv( X ) @ y\n",
    "print( beta_pi )"
   ]
  },
  {
   "cell_type": "code",
   "execution_count": 23,
   "metadata": {},
   "outputs": [
    {
     "name": "stdout",
     "output_type": "stream",
     "text": [
      "[[-0.  ]\n",
      " [ 0.92]]\n"
     ]
    }
   ],
   "source": [
    "# Least squares solve\n",
    "\n",
    "beta_ls, resid, rank, s = np.linalg.lstsq( X, y, rcond=None )\n",
    "print( beta_ls )"
   ]
  }
 ],
 "metadata": {
  "kernelspec": {
   "display_name": "Python 3",
   "language": "python",
   "name": "python3"
  },
  "language_info": {
   "codemirror_mode": {
    "name": "ipython",
    "version": 3
   },
   "file_extension": ".py",
   "mimetype": "text/x-python",
   "name": "python",
   "nbconvert_exporter": "python",
   "pygments_lexer": "ipython3",
   "version": "3.7.3"
  }
 },
 "nbformat": 4,
 "nbformat_minor": 2
}
