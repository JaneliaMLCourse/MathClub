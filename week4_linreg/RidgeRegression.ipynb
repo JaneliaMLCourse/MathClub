{
 "cells": [
  {
   "cell_type": "code",
   "execution_count": 1,
   "metadata": {},
   "outputs": [],
   "source": [
    "import numpy as np\n",
    "import sklearn.linear_model as skl\n",
    "\n",
    "import matplotlib.pyplot as plt\n",
    "%matplotlib inline\n"
   ]
  },
  {
   "cell_type": "markdown",
   "metadata": {},
   "source": [
    "The situation: we can measure two variables that are highly correlated.  They're correlated\n",
    "because they're both noisy versions of some third (unmeasured) variable."
   ]
  },
  {
   "cell_type": "code",
   "execution_count": 2,
   "metadata": {},
   "outputs": [],
   "source": [
    "# Generate some data that is \"close\" to singular\n",
    "\n",
    "N = 10 # number of observations\n",
    "\n",
    "# the hidden variable\n",
    "z = np.random.randn( N, 1 )\n",
    "\n",
    "def generateData( N, xnoiseLevel=0.2, ynoiseLevel=1 ):\n",
    "    # observed variables\n",
    "    x1 = 3*z + xnoiseLevel * np.random.randn( N,1 )\n",
    "    x2 = 2*z + xnoiseLevel * np.random.randn( N,1 )\n",
    "    X = np.concatenate( (x1,x2), axis=1)\n",
    "    \n",
    "    # unobserved variable\n",
    "    y = 5*z + ynoiseLevel * np.random.randn(N,1)\n",
    "    \n",
    "    return X, y\n",
    "\n",
    "X, y = generateData( N )\n"
   ]
  },
  {
   "cell_type": "code",
   "execution_count": 3,
   "metadata": {},
   "outputs": [
    {
     "data": {
      "text/plain": [
       "Text(0, 0.5, 'y')"
      ]
     },
     "execution_count": 3,
     "metadata": {},
     "output_type": "execute_result"
    },
    {
     "data": {
      "image/png": "[encoded data removed]",
      "text/plain": [
       "<Figure size 288x288 with 1 Axes>"
      ]
     },
     "metadata": {
      "needs_background": "light"
     },
     "output_type": "display_data"
    }
   ],
   "source": [
    "fig = plt.figure(figsize=(4,4))\n",
    "ax = fig.add_subplot(111)\n",
    "ax.scatter( X[:,0], y )\n",
    "ax.scatter( X[:,1], y )\n",
    "ax.legend(['x1', 'x2'])\n",
    "ax.set_xlabel('x_i')\n",
    "ax.set_ylabel('y')"
   ]
  },
  {
   "cell_type": "code",
   "execution_count": 4,
   "metadata": {},
   "outputs": [
    {
     "data": {
      "text/plain": [
       "Text(0, 0.5, 'x2')"
      ]
     },
     "execution_count": 4,
     "metadata": {},
     "output_type": "execute_result"
    },
    {
     "data": {
      "image/png": "[encoded data removed]",
      "text/plain": [
       "<Figure size 288x288 with 1 Axes>"
      ]
     },
     "metadata": {
      "needs_background": "light"
     },
     "output_type": "display_data"
    }
   ],
   "source": [
    "fig = plt.figure(figsize=(4,4))\n",
    "ax = fig.add_subplot(111)\n",
    "ax.scatter( X[:,0], X[:,1] )\n",
    "ax.set_xlabel('x1')\n",
    "ax.set_ylabel('x2')"
   ]
  },
  {
   "cell_type": "code",
   "execution_count": 5,
   "metadata": {},
   "outputs": [
    {
     "name": "stdout",
     "output_type": "stream",
     "text": [
      "beta 0 = 0.144102\n",
      "beta 1 = 1.625793\n",
      "beta 2 = 0.284113\n"
     ]
    }
   ],
   "source": [
    "reg = skl.LinearRegression().fit( X, y )\n",
    "print( 'beta 0 = %f\\nbeta 1 = %f\\nbeta 2 = %f'% (reg.intercept_, reg.coef_[0][0], reg.coef_[0][1]) )"
   ]
  },
  {
   "cell_type": "code",
   "execution_count": 6,
   "metadata": {},
   "outputs": [],
   "source": [
    "def replication_study( numberOfExperiments, N, model ):\n",
    "    parameter_list = []\n",
    "    for i in range( numberOfExperiments ):\n",
    "        X,y = generateData( N )\n",
    "        reg = model.fit( X, y )\n",
    "        # print( 'beta 0 = %f\\nbeta 1 = %f\\nbeta 2 = %f\\n'% (reg.intercept_, reg.coef_[0][0], reg.coef_[0][1]) ) \n",
    "        if( i == 0 ):\n",
    "            minbeta = reg.coef_[0]\n",
    "            maxbeta = reg.coef_[0]\n",
    "        else:\n",
    "            minbeta = np.minimum( minbeta, reg.coef_[0])\n",
    "            maxbeta = np.maximum( maxbeta, reg.coef_[0])\n",
    "    \n",
    "    return minbeta, maxbeta"
   ]
  },
  {
   "cell_type": "code",
   "execution_count": 7,
   "metadata": {},
   "outputs": [
    {
     "name": "stdout",
     "output_type": "stream",
     "text": [
      "[-1.49697962 -0.63781534]\n",
      "[2.02423055 5.10518587]\n"
     ]
    }
   ],
   "source": [
    "numberOfExperiments = 20\n",
    "\n",
    "minbeta, maxbeta = replication_study( numberOfExperiments, N, skl.LinearRegression())\n",
    "\n",
    "print( minbeta )\n",
    "print( maxbeta )"
   ]
  },
  {
   "cell_type": "code",
   "execution_count": 8,
   "metadata": {},
   "outputs": [
    {
     "name": "stdout",
     "output_type": "stream",
     "text": [
      "[ 0.76561452 -0.13808207]\n",
      "[1.78103511 1.27610599]\n"
     ]
    }
   ],
   "source": [
    "# The alpha parameter below gives the strength of the penalty for large parameters\n",
    "# What effect does alpha have on the results?\n",
    "\n",
    "minbetaridge, maxbetaridge = replication_study( numberOfExperiments, N, skl.Ridge(alpha=1))\n",
    "   \n",
    "print( minbetaridge )\n",
    "print( maxbetaridge )"
   ]
  },
  {
   "cell_type": "code",
   "execution_count": 9,
   "metadata": {},
   "outputs": [
    {
     "name": "stdout",
     "output_type": "stream",
     "text": [
      "beta 0 = 0.500000\n",
      "beta 1 = 0.000000\n"
     ]
    }
   ],
   "source": [
    "# Let's see what happens if we try ridge regression on\n",
    "# our nasty example that breaks the normal equations\n",
    "\n",
    "X = np.array([[0,1],[0,1]])\n",
    "y = np.array([0,1])\n",
    "\n",
    "reg = skl.Ridge(alpha=1).fit( X, y )\n",
    "print( 'beta 0 = %f\\nbeta 1 = %f'% (reg.intercept_, reg.coef_[0]) )\n",
    "\n",
    "# What effect does alpha have on this result?"
   ]
  },
  {
   "cell_type": "code",
   "execution_count": null,
   "metadata": {},
   "outputs": [],
   "source": []
  }
 ],
 "metadata": {
  "kernelspec": {
   "display_name": "Python 3",
   "language": "python",
   "name": "python3"
  },
  "language_info": {
   "codemirror_mode": {
    "name": "ipython",
    "version": 3
   },
   "file_extension": ".py",
   "mimetype": "text/x-python",
   "name": "python",
   "nbconvert_exporter": "python",
   "pygments_lexer": "ipython3",
   "version": "3.7.3"
  }
 },
 "nbformat": 4,
 "nbformat_minor": 2
}
