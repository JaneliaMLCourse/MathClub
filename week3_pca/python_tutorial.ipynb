{
 "cells": [
  {
   "cell_type": "markdown",
   "metadata": {},
   "source": [
    "## Intro\n",
    "\n",
    "### Installation\n",
    "\n",
    "To get started with python, install Anaconda [python](https://www.anaconda.com/distribution/). This will come with many useful libraries for data analysis. Now if you're in **Windows**, open up an \"Anaconda prompt\" and you're good to go.\n",
    "\n",
    "If you're in **Linux** you'll want to make sure that your `~/.bashrc` profile points to Anaconda python, not the built in python (so when you open a terminal you're all set). Add the following lines to your `~/.bashrc` file if it's not there already (where `<user>` is your username):\n",
    "~~~\n",
    "export PATH=\"/home/<user>/anaconda3/bin:$PATH\"\n",
    "conda activate\n",
    "~~~\n",
    "\n",
    "If you're in **Mac**, here are detailed [instructions](https://www.datacamp.com/community/tutorials/installing-anaconda-mac-os-x). It should work out of the box in a terminal, but if not you may need to modify your `.bash_profile` like in Linux.\n",
    "\n",
    "\n",
    "### Packages and environments\n",
    "\n",
    "Anaconda has a package manager [**conda**](https://conda.io/en/latest/) that you can use to install packages. Here is a good [tutorial](https://conda.io/projects/conda/en/latest/user-guide/getting-started.html) if you want more info. To install a package say\n",
    "~~~\n",
    "conda install numpy\n",
    "~~~\n",
    "To upgrade to the latest version of a package say\n",
    "~~~\n",
    "conda install numpy --upgrade\n",
    "~~~\n",
    "\n",
    "Another package manager is `pip`, these are packages that are written only in python (see info [here](https://www.anaconda.com/understanding-conda-and-pip/)). Generally these will be packages that you find on github. I recommend using `conda` when available (e.g. for things like numpy or scikit-learn) because it makes sure that all dependencies are working. Dependencies are packages on which a package depends - most packages in data analysis will depend on the core packages like numpy and scipy.\n",
    "\n",
    "conda also allows you to create different **environments** for your code. This is different from matlab. In python, there are many packages with different versions that aren't always backward compatible. Therefore, you may write code that might not work quite the same way in a year or so with the latest packages. However, all python packages have **version** control, so you can specifically install an older package with\n",
    "~~~\n",
    "pip install suite2p==0.5.5\n",
    "~~~\n",
    "or\n",
    "~~~\n",
    "conda install numpy==1.13.0\n",
    "~~~\n",
    "\n",
    "You may therefore want different environments for different code packages. To create and activate an environment, you can say\n",
    "~~~\n",
    "conda create -n cshl\n",
    "conda activate cshl\n",
    "~~~\n",
    "\n",
    "Now you're in a new environment, you should see `(cshl)` on the left-hand side of your terminal. You can install packages here as you wish, and your `(base)` anaconda packages won't change. To see what packages are installed you can say\n",
    "~~~\n",
    "conda list\n",
    "~~~\n",
    "\n",
    "To close the environment, say\n",
    "~~~\n",
    "conda deactivate\n",
    "~~~\n",
    "\n",
    "Many packages that you might install from github come with `environment.yml` files to make an environment with the correct dependencies for you. Once in a folder which contains the `environment.yml`, run the following to name the environment `suite2p`:\n",
    "~~~\n",
    "conda env create -n suite2p\n",
    "conda activate suite2p\n",
    "~~~\n",
    "\n",
    "### Jupyter notebooks\n",
    "\n",
    "The `(base)` Anaconda environment will have `jupyter-notebook` installed. Run this from the folder in which you want to create your notebooks and a browser window should open with the address \"localhost:8888/tree\":\n",
    "~~~\n",
    "jupyter-notebook\n",
    "~~~\n",
    "\n",
    "To run a cell, go into that cell and click \"CTRL+ENTER\". To make a new cell below, click \"ESC,b\". To restart a notebook and clear all variables, click \"ESC,0,0\". To split a cell into two cells, click \"CTRL+SHIFT+-\". To merge two cells use \"ESC,SHIFT+M\".\n",
    "\n",
    "To install packages inside a jupyter notebook, you can use the \"!\" prefix:"
   ]
  },
  {
   "cell_type": "code",
   "execution_count": null,
   "metadata": {},
   "outputs": [],
   "source": [
    "!pip install rastermap"
   ]
  },
  {
   "cell_type": "markdown",
   "metadata": {},
   "source": [
    "Another prefix in notebooks is the \"%\" magic command. This allows you to set cells to certain settings (e.g. a %%BASH cell instead of a python cell, or %%time to time a cell). "
   ]
  },
  {
   "cell_type": "code",
   "execution_count": 4,
   "metadata": {},
   "outputs": [
    {
     "name": "stdout",
     "output_type": "stream",
     "text": [
      "CPU times: user 42 µs, sys: 0 ns, total: 42 µs\n",
      "Wall time: 48.6 µs\n"
     ]
    }
   ],
   "source": [
    "%%time\n",
    "import numpy as np\n",
    "x=np.random.random(100)"
   ]
  },
  {
   "cell_type": "markdown",
   "metadata": {},
   "source": [
    "There are other useful scripts, where the input is given with a space, e.g. %timeit, which runs a script many times to get timings."
   ]
  },
  {
   "cell_type": "code",
   "execution_count": 5,
   "metadata": {},
   "outputs": [
    {
     "name": "stdout",
     "output_type": "stream",
     "text": [
      "1.49 µs ± 58.1 ns per loop (mean ± std. dev. of 7 runs, 1000000 loops each)\n"
     ]
    }
   ],
   "source": [
    "%timeit np.random.random(100)"
   ]
  },
  {
   "cell_type": "markdown",
   "metadata": {},
   "source": [
    "To time lines in your function, use %prun. Function format in python:\n",
    "~~~\n",
    "def my_function(input, optional_input=50):\n",
    "    ...\n",
    "    return output1, output2\n",
    "~~~\n",
    "\n",
    "Python makes it easy to specify optional inputs for a function (with a given default value). When I call \"my_function\" I only need to specify \"input\". If \"optional_input\" is not specified then it is set to \"50\".\n",
    "\n",
    "Note python returns ALL outputs as a list if you specify only one output variable during declaration (unlike matlab)."
   ]
  },
  {
   "cell_type": "code",
   "execution_count": 13,
   "metadata": {},
   "outputs": [
    {
     "name": "stdout",
     "output_type": "stream",
     "text": [
      " 500 500\n"
     ]
    }
   ],
   "source": [
    "def my_function(input, optional_input=50):\n",
    "    output1 = input * optional_input\n",
    "    output2 = optional_input * 10   \n",
    "    return output1, output2\n",
    "\n",
    "%prun outputs = my_function(10)\n",
    "\n",
    "print(outputs[0], outputs[1])"
   ]
  },
  {
   "cell_type": "markdown",
   "metadata": {},
   "source": [
    "## Numpy (matrices in python)\n",
    "\n",
    "If you're familiar with matlab, then here's a [MATLAB TO NUMPY](http://mathesaurus.sourceforge.net/matlab-numpy.html) cheatsheet. The numpy [tutorial](https://docs.scipy.org/doc/numpy/user/quickstart.html) is also very good. \n",
    "\n",
    "The [indexing](https://docs.scipy.org/doc/numpy/user/quickstart.html#fancy-indexing-and-index-tricks) is a bit different so take note. Array indexing starts at ZERO and you can use negative numbers to go backwards. Run the following in a cell (CTRL+ENTER to run a cell):"
   ]
  },
  {
   "cell_type": "code",
   "execution_count": 2,
   "metadata": {},
   "outputs": [
    {
     "name": "stdout",
     "output_type": "stream",
     "text": [
      "[0 1 2 3 4 5 6 7 8 9]\n",
      "[0 1 2 3 4 5 6 7]\n",
      "[0 1 2 3 4 5 6 7]\n",
      "[0 2 4 6]\n"
     ]
    }
   ],
   "source": [
    "import numpy as np\n",
    "\n",
    "x = np.arange(0,10)\n",
    "print(x)\n",
    "print(x[0:-2]) # same as x = x(1:end-2) in matlab\n",
    "print(x[:-2]) # omitting the 0 has the same effect\n",
    "print(x[:-2:2]) # take every second value\n"
   ]
  },
  {
   "cell_type": "markdown",
   "metadata": {},
   "source": [
    "### Broadcasting\n",
    "\n",
    "Slices are these colon indices `1:10` and these can broadcast in 2D arrays, but lists of indices do NOT broadcast. In the example below I will also use matplotlib. See the magic \"%matplotlib inline\". This makes plots inline. \"%matplotlib notebook\" will make interactive plots which you can zoom into"
   ]
  },
  {
   "cell_type": "code",
   "execution_count": 16,
   "metadata": {},
   "outputs": [
    {
     "name": "stdout",
     "output_type": "stream",
     "text": [
      "[0.80119346 0.88879998 0.44607595 0.27037504 0.46560139 0.1109843\n",
      " 0.48590118 0.59218653 0.2272682  0.05352937]\n"
     ]
    },
    {
     "data": {
      "text/plain": [
       "<matplotlib.image.AxesImage at 0x7f42c06d5550>"
      ]
     },
     "execution_count": 16,
     "metadata": {},
     "output_type": "execute_result"
    },
    {
     "data": {
      "image/png": "[encoded data removed]",
      "text/plain": [
       "<Figure size 432x288 with 1 Axes>"
      ]
     },
     "metadata": {
      "needs_background": "light"
     },
     "output_type": "display_data"
    }
   ],
   "source": [
    "import matplotlib.pyplot as plt\n",
    "%matplotlib inline\n",
    "\n",
    "x = np.random.rand(50,50)\n",
    "\n",
    "# broadcasted indices (get a square)\n",
    "# imshow is like imagesc in matlab\n",
    "plt.imshow(x[10:20, 10:20])\n",
    "\n",
    "# list of indices (get *10* numbers not a 10x10)!\n",
    "print(x[np.arange(10,20,1,int), np.arange(10,20,1,int)])\n",
    "\n",
    "# if you want to broadcast with a list you can use ix_ but this is SLOW so slices are preferred\n",
    "plt.imshow(x[np.ix_( np.arange(10,20,1,int), np.arange(10,20,1,int) )])"
   ]
  },
  {
   "cell_type": "code",
   "execution_count": 43,
   "metadata": {},
   "outputs": [
    {
     "data": {
      "image/png": "[encoded data removed]",
      "text/plain": [
       "<Figure size 1080x504 with 2 Axes>"
      ]
     },
     "metadata": {
      "needs_background": "light"
     },
     "output_type": "display_data"
    }
   ],
   "source": [
    "### EXERCISE\n",
    "# plot these two indexed matrices (which give the same result) in subplots\n",
    "\n",
    "# make a large plot\n",
    "fig = plt.figure(figsize=(15,7))\n",
    "\n",
    "# subplot 1\n",
    "ax1 = fig.add_subplot(1,2,1)\n",
    "#ax1.imshow(....)\n",
    "\n",
    "# subplot 2\n",
    "ax2 = fig.add_subplot(1,2,2)\n"
   ]
  },
  {
   "cell_type": "markdown",
   "metadata": {},
   "source": [
    "Numpy also automatically broadcasts if last N indices are the same (it will add the first index itself). However, if you want to broadcast along the last indices, then you need to add new axes:"
   ]
  },
  {
   "cell_type": "code",
   "execution_count": 18,
   "metadata": {},
   "outputs": [
    {
     "name": "stdout",
     "output_type": "stream",
     "text": [
      "(50, 100) (100,) (50,)\n"
     ]
    }
   ],
   "source": [
    "x = np.random.rand(50,100)\n",
    "\n",
    "print(x.shape, x.mean(axis=0).shape, x.mean(axis=1).shape)\n",
    "\n",
    "# x is 50x100 and x.mean(axis=0) is 100 long (LAST AXIS MATCHES)\n",
    "x -= x.mean(axis=0)\n",
    "\n",
    "# x is 50x100 and x.mean(axis=1) is 50 long (LAST AXIS DOES NOT MATCH)\n",
    "x -= x.mean(axis=1)[:,np.newaxis]"
   ]
  },
  {
   "cell_type": "markdown",
   "metadata": {},
   "source": [
    "Did you see I did a few other tricky things you can't do in matlab? I did an \"inline\" operation to subtract, the following are equivalent:"
   ]
  },
  {
   "cell_type": "code",
   "execution_count": 19,
   "metadata": {},
   "outputs": [],
   "source": [
    "x = x - x.mean(axis=0)\n",
    "x -= x.mean(axis=0)"
   ]
  },
  {
   "cell_type": "markdown",
   "metadata": {},
   "source": [
    "### Classes\n",
    "\n",
    "Also, these numpy vectors/matrices are technically classes that have their OWN functions called methods, which you call with the `.` - this is different from matlab. So you can take the mean either way"
   ]
  },
  {
   "cell_type": "code",
   "execution_count": 23,
   "metadata": {
    "scrolled": true
   },
   "outputs": [
    {
     "name": "stdout",
     "output_type": "stream",
     "text": [
      "[-3.88578059e-18  4.44089210e-18  4.44089210e-18 -3.33066907e-18\n",
      "  1.11022302e-17  6.10622664e-18  1.21083699e-17  6.66133815e-18\n",
      "  4.44089210e-18  4.99600361e-18]\n",
      "[-3.88578059e-18  4.44089210e-18  4.44089210e-18 -3.33066907e-18\n",
      "  1.11022302e-17  6.10622664e-18  1.21083699e-17  6.66133815e-18\n",
      "  4.44089210e-18  4.99600361e-18]\n"
     ]
    }
   ],
   "source": [
    "xmean1 = x.mean(axis=0)\n",
    "xmean2 = np.mean(x, axis=0) # more matlab-y way\n",
    "print(xmean1[:10])\n",
    "print(xmean2[:10])"
   ]
  },
  {
   "cell_type": "markdown",
   "metadata": {},
   "source": [
    "You can see all the methods of an object with"
   ]
  },
  {
   "cell_type": "code",
   "execution_count": 24,
   "metadata": {},
   "outputs": [
    {
     "data": {
      "text/plain": [
       "['T',\n",
       " '__abs__',\n",
       " '__add__',\n",
       " '__and__',\n",
       " '__array__',\n",
       " '__array_finalize__',\n",
       " '__array_interface__',\n",
       " '__array_prepare__',\n",
       " '__array_priority__',\n",
       " '__array_struct__',\n",
       " '__array_ufunc__',\n",
       " '__array_wrap__',\n",
       " '__bool__',\n",
       " '__class__',\n",
       " '__complex__',\n",
       " '__contains__',\n",
       " '__copy__',\n",
       " '__deepcopy__',\n",
       " '__delattr__',\n",
       " '__delitem__',\n",
       " '__dir__',\n",
       " '__divmod__',\n",
       " '__doc__',\n",
       " '__eq__',\n",
       " '__float__',\n",
       " '__floordiv__',\n",
       " '__format__',\n",
       " '__ge__',\n",
       " '__getattribute__',\n",
       " '__getitem__',\n",
       " '__gt__',\n",
       " '__hash__',\n",
       " '__iadd__',\n",
       " '__iand__',\n",
       " '__ifloordiv__',\n",
       " '__ilshift__',\n",
       " '__imatmul__',\n",
       " '__imod__',\n",
       " '__imul__',\n",
       " '__index__',\n",
       " '__init__',\n",
       " '__init_subclass__',\n",
       " '__int__',\n",
       " '__invert__',\n",
       " '__ior__',\n",
       " '__ipow__',\n",
       " '__irshift__',\n",
       " '__isub__',\n",
       " '__iter__',\n",
       " '__itruediv__',\n",
       " '__ixor__',\n",
       " '__le__',\n",
       " '__len__',\n",
       " '__lshift__',\n",
       " '__lt__',\n",
       " '__matmul__',\n",
       " '__mod__',\n",
       " '__mul__',\n",
       " '__ne__',\n",
       " '__neg__',\n",
       " '__new__',\n",
       " '__or__',\n",
       " '__pos__',\n",
       " '__pow__',\n",
       " '__radd__',\n",
       " '__rand__',\n",
       " '__rdivmod__',\n",
       " '__reduce__',\n",
       " '__reduce_ex__',\n",
       " '__repr__',\n",
       " '__rfloordiv__',\n",
       " '__rlshift__',\n",
       " '__rmatmul__',\n",
       " '__rmod__',\n",
       " '__rmul__',\n",
       " '__ror__',\n",
       " '__rpow__',\n",
       " '__rrshift__',\n",
       " '__rshift__',\n",
       " '__rsub__',\n",
       " '__rtruediv__',\n",
       " '__rxor__',\n",
       " '__setattr__',\n",
       " '__setitem__',\n",
       " '__setstate__',\n",
       " '__sizeof__',\n",
       " '__str__',\n",
       " '__sub__',\n",
       " '__subclasshook__',\n",
       " '__truediv__',\n",
       " '__xor__',\n",
       " 'all',\n",
       " 'any',\n",
       " 'argmax',\n",
       " 'argmin',\n",
       " 'argpartition',\n",
       " 'argsort',\n",
       " 'astype',\n",
       " 'base',\n",
       " 'byteswap',\n",
       " 'choose',\n",
       " 'clip',\n",
       " 'compress',\n",
       " 'conj',\n",
       " 'conjugate',\n",
       " 'copy',\n",
       " 'ctypes',\n",
       " 'cumprod',\n",
       " 'cumsum',\n",
       " 'data',\n",
       " 'diagonal',\n",
       " 'dot',\n",
       " 'dtype',\n",
       " 'dump',\n",
       " 'dumps',\n",
       " 'fill',\n",
       " 'flags',\n",
       " 'flat',\n",
       " 'flatten',\n",
       " 'getfield',\n",
       " 'imag',\n",
       " 'item',\n",
       " 'itemset',\n",
       " 'itemsize',\n",
       " 'max',\n",
       " 'mean',\n",
       " 'min',\n",
       " 'nbytes',\n",
       " 'ndim',\n",
       " 'newbyteorder',\n",
       " 'nonzero',\n",
       " 'partition',\n",
       " 'prod',\n",
       " 'ptp',\n",
       " 'put',\n",
       " 'ravel',\n",
       " 'real',\n",
       " 'repeat',\n",
       " 'reshape',\n",
       " 'resize',\n",
       " 'round',\n",
       " 'searchsorted',\n",
       " 'setfield',\n",
       " 'setflags',\n",
       " 'shape',\n",
       " 'size',\n",
       " 'sort',\n",
       " 'squeeze',\n",
       " 'std',\n",
       " 'strides',\n",
       " 'sum',\n",
       " 'swapaxes',\n",
       " 'take',\n",
       " 'tobytes',\n",
       " 'tofile',\n",
       " 'tolist',\n",
       " 'tostring',\n",
       " 'trace',\n",
       " 'transpose',\n",
       " 'var',\n",
       " 'view']"
      ]
     },
     "execution_count": 24,
     "metadata": {},
     "output_type": "execute_result"
    }
   ],
   "source": [
    "dir(x)"
   ]
  },
  {
   "cell_type": "markdown",
   "metadata": {},
   "source": [
    "### Copying arrays\n",
    "\n",
    "Another thing to note for numpy matrices is that equal (`=`) does not allocate new memory unless you tell it to. Try the following code:"
   ]
  },
  {
   "cell_type": "code",
   "execution_count": 25,
   "metadata": {},
   "outputs": [
    {
     "name": "stdout",
     "output_type": "stream",
     "text": [
      "original: b[3] = 3\n",
      "after changing a: b[3] = 4\n"
     ]
    }
   ],
   "source": [
    "a = np.arange(0,10,1,int)\n",
    "b = a\n",
    "print('original: b[3] = %d'%b[3])\n",
    "a[3] = 4\n",
    "print('after changing a: b[3] = %d'%b[3])"
   ]
  },
  {
   "cell_type": "markdown",
   "metadata": {},
   "source": [
    "Changing `a` will change the value of `b`! Use `b = a.copy()` if you want to prevent this. "
   ]
  },
  {
   "cell_type": "code",
   "execution_count": 40,
   "metadata": {},
   "outputs": [],
   "source": [
    "### EXERCISE\n",
    "# use the b = a.copy() command and change a. does b change?"
   ]
  },
  {
   "cell_type": "markdown",
   "metadata": {},
   "source": [
    "### Print statements\n",
    "\n",
    "Also, see how I made the print statement with a \"%\", this is like \"fprintf\" in matlab/C. There are different commands for different variable types:"
   ]
  },
  {
   "cell_type": "code",
   "execution_count": 31,
   "metadata": {},
   "outputs": [
    {
     "name": "stdout",
     "output_type": "stream",
     "text": [
      "for integers: 500\n",
      "for floats: 50.20\n",
      "for strings: hey mathclub!\n",
      "hey mathclub! what is 500 divided by 50.20?\n"
     ]
    }
   ],
   "source": [
    "print(\"for integers: %d\"%500)\n",
    "print(\"for floats: %2.2f\"%50.2)\n",
    "print(\"for strings: %s\"%'hey mathclub!')\n",
    "print(\"%s what is %d divided by %2.2f?\"%('hey mathclub!', 500, 50.2))"
   ]
  },
  {
   "cell_type": "code",
   "execution_count": 38,
   "metadata": {},
   "outputs": [
    {
     "name": "stdout",
     "output_type": "stream",
     "text": [
      "the answer is 9.96\n"
     ]
    }
   ],
   "source": [
    "print(\"the answer is %2.2f\"%(500/50.2))"
   ]
  },
  {
   "cell_type": "markdown",
   "metadata": {},
   "source": [
    "### Multiplying vectors and matrices\n",
    "\n",
    "vector `v = np.array([1,-1])`\n",
    "\n",
    "array `A = np.array([[3,1],[0,2]])`\n",
    "\n",
    "scalar multiplication with `*`"
   ]
  },
  {
   "cell_type": "code",
   "execution_count": 4,
   "metadata": {},
   "outputs": [
    {
     "name": "stdout",
     "output_type": "stream",
     "text": [
      "[ 2 -2]\n"
     ]
    }
   ],
   "source": [
    "v = np.array([1,-1])\n",
    "A = np.array([[3,1],[0,2]])\n",
    "\n",
    "print(v * 2)"
   ]
  },
  {
   "cell_type": "markdown",
   "metadata": {},
   "source": [
    "To compute a dot product between two vectors use `np.dot` or `**2.sum()`"
   ]
  },
  {
   "cell_type": "code",
   "execution_count": 9,
   "metadata": {},
   "outputs": [
    {
     "name": "stdout",
     "output_type": "stream",
     "text": [
      "2\n",
      "2\n"
     ]
    }
   ],
   "source": [
    "print(np.dot(v,v))\n",
    "# think about why this is the same:\n",
    "print((v**2).sum())"
   ]
  },
  {
   "cell_type": "markdown",
   "metadata": {},
   "source": [
    "To multiply two matrices or a matrix and a vector, use `np.matmul` or `@` (NOT `*`)"
   ]
  },
  {
   "cell_type": "code",
   "execution_count": 10,
   "metadata": {},
   "outputs": [
    {
     "name": "stdout",
     "output_type": "stream",
     "text": [
      "[ 2 -2]\n",
      "[ 2 -2]\n"
     ]
    }
   ],
   "source": [
    "v1 = np.matmul(A,v)\n",
    "v2 = A @ v\n",
    "\n",
    "print(v1)\n",
    "print(v2)"
   ]
  },
  {
   "cell_type": "markdown",
   "metadata": {},
   "source": [
    "Can you find the eigenvalue using element-wise division of v and v1?"
   ]
  },
  {
   "cell_type": "code",
   "execution_count": null,
   "metadata": {},
   "outputs": [],
   "source": [
    "### EXERCISE\n",
    "# what is the eigenvalue of vector v with A"
   ]
  },
  {
   "cell_type": "markdown",
   "metadata": {},
   "source": [
    "Also compute $\\begin{bmatrix} -1 & 2 \\\\ 2 & -1 \\end{bmatrix} \\begin{bmatrix} 1 \\\\ -1 \\end{bmatrix}$\n",
    "and $\\begin{bmatrix} -1 & 2 \\\\ 2 & -1 \\end{bmatrix} \\begin{bmatrix} 1 \\\\ 1 \\end{bmatrix}$"
   ]
  },
  {
   "cell_type": "code",
   "execution_count": 11,
   "metadata": {},
   "outputs": [],
   "source": [
    "### EXERCISE compute the above matrix multiplications"
   ]
  },
  {
   "cell_type": "markdown",
   "metadata": {},
   "source": [
    "### Loops\n",
    "\n",
    "\"for\" statements in python can iterate over anything - lists, numbers, strings. Here's an example for integers 0-9 (using `range(10)`)"
   ]
  },
  {
   "cell_type": "code",
   "execution_count": 17,
   "metadata": {},
   "outputs": [
    {
     "name": "stdout",
     "output_type": "stream",
     "text": [
      "[ 1024 -1024]\n"
     ]
    }
   ],
   "source": [
    "vout = v.copy()\n",
    "for i in range(10):\n",
    "    vout = np.matmul(A, vout)\n",
    "print(vout)"
   ]
  },
  {
   "cell_type": "markdown",
   "metadata": {},
   "source": [
    "Why is the output like that? What happened to `v` after being multiplied by `A` so many times? \n",
    "\n",
    "As an exercise write a for-loop to populate a vector with the eigenvalue associated with each `vout` above."
   ]
  },
  {
   "cell_type": "code",
   "execution_count": 18,
   "metadata": {},
   "outputs": [],
   "source": [
    "### EXERCISE\n",
    "# lam = np.zeros(10)   #~~~ empty vector of zeros\n",
    "# for i in range(10):\n",
    "#    vout = np.matmul(A, vout) #~~~ how much does vout change by?"
   ]
  }
 ],
 "metadata": {
  "kernelspec": {
   "display_name": "Python 3",
   "language": "python",
   "name": "python3"
  },
  "language_info": {
   "codemirror_mode": {
    "name": "ipython",
    "version": 3
   },
   "file_extension": ".py",
   "mimetype": "text/x-python",
   "name": "python",
   "nbconvert_exporter": "python",
   "pygments_lexer": "ipython3",
   "version": "3.7.3"
  }
 },
 "nbformat": 4,
 "nbformat_minor": 2
}
